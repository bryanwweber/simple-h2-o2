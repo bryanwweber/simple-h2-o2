{
 "cells": [
  {
   "cell_type": "markdown",
   "metadata": {},
   "source": [
    "This file is a simple test of the ODE integrator in SciPy and my ability to write a system of ODEs. The system is a very simplified version of $H_2$-$O_2$ chemistry. The system of reactions to be solved involves 4 reactions (3 reversible, 1 irreversible) among 6 species: $H$, $O$, $OH$, $H_2$, $O_2$, and $H_2O$. The 3 reversible reactions are assumed to be in partial equilibrium. The derivation follows the discussion of Turns, Pg. 133."
   ]
  },
  {
   "cell_type": "code",
   "execution_count": null,
   "metadata": {
    "collapsed": false
   },
   "outputs": [],
   "source": [
    "%%latex\n",
    "The reactions that are present in this system are:\n",
    "\\begin{align}\n",
    "H + O_2 &\\leftrightarrow OH + O & (&1) \\\\\n",
    "O + H_2 &\\leftrightarrow OH + H & (&2) \\\\\n",
    "OH + H_2 &\\leftrightarrow H_2O + H & (&3) \\\\\n",
    "H + OH + M &\\rightarrow H_2O + M & (&4)\n",
    "\\end{align}\n",
    "\n",
    "Then, the rate equations for each species are:\n",
    "\n",
    "\\begin{align}\n",
    "\\frac{d[H]}{dt} &= k_{r,1}[OH][O] + k_{f,2}[O][H_2] + k_{f,3}[OH][H_2] - k_{f,1}[H][O2] - k_{r,2}[H][OH] - k_{r,3}[H_2O][H] - k_{f,4}[H][OH][M] \\\\\n",
    "\\frac{d[O]}{dt} &= k_{f,1}[H][O2] + k_{r,2}[H][OH] - k_{r,1}[OH][O] - k_{f,2}[O][H_2] \\\\\n",
    "\\frac{d[OH]}{dt} &= k_{f,1}[H][O2] + k_{f,2}[O][H_2] + k_{r,3}[H_2O][H] - k_{r,1}[OH][O] - k_{r,2}[H][OH] - k_{f,3}[OH][H_2] - k_{f,4}[H][OH][M] \\\\\n",
    "\\frac{d[H_2]}{dt} &= k_{r,2}[OH][H] + k_{r,2}[H_2O][H] - k_{f,2}[O][H_2] - k_{f,3}[OH][H_2] \\\\\n",
    "\\frac{d[O_2]}{dt} &= k_{r,1}[OH][O] - k_{f,1}[H][O2] \\\\\n",
    "\\frac{d[H_2O]}{dt} &= k_{f,3}[OH][H_2] + k_{f,4}[H][OH][M] - k_{r,3}[H_2O][H]\n",
    "\\end{align}\n",
    "\n",
    "Use PySym to solve the algebraic PE equations!"
   ]
  },
  {
   "cell_type": "code",
   "execution_count": null,
   "metadata": {
    "collapsed": true
   },
   "outputs": [],
   "source": []
  }
 ],
 "metadata": {
  "git": {
   "suppress_outputs": true
  },
  "kernelspec": {
   "display_name": "Python 3",
   "language": "python",
   "name": "python3"
  },
  "language_info": {
   "codemirror_mode": {
    "name": "ipython",
    "version": 3
   },
   "file_extension": ".py",
   "mimetype": "text/x-python",
   "name": "python",
   "nbconvert_exporter": "python",
   "pygments_lexer": "ipython3",
   "version": "3.5.1"
  }
 },
 "nbformat": 4,
 "nbformat_minor": 0
}
