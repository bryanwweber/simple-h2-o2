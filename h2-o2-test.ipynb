{
 "cells": [
  {
   "cell_type": "markdown",
   "metadata": {},
   "source": [
    "This file is a simple test of the ODE integrator in SciPy and my ability to write a system of ODEs. The system is a very simplified version of $H_2$-$O_2$ chemistry. The system of reactions to be solved involves 6 reactions (3 reversible, 6 irreversible) among 6 species: $H$, $O$, $OH$, $H_2$, $O_2$, and $H_2O$. The 3 reversible reactions are assumed to be in partial equilibrium. The derivation follows the discussion of Turns, Pg. 133."
   ]
  },
  {
   "cell_type": "code",
   "execution_count": null,
   "metadata": {
    "collapsed": false
   },
   "outputs": [],
   "source": [
    "%%latex\n",
    "The reactions that are present in this system are:\n",
    "\\begin{align}\n",
    "H + O_2 &\\leftrightarrow OH + O & (&1) \\\\\n",
    "O + H_2 &\\leftrightarrow OH + H & (&2) \\\\\n",
    "OH + H_2 &\\leftrightarrow H_2O + H & (&3) \\\\\n",
    "H + OH + M &\\rightarrow H_2O + M & (&4) \\\\\n",
    "H_2 + M &\\rightarrow 2H + M & (&5) \\\\\n",
    "O_2 + M &\\rightarrow 2O + M & (&6)\n",
    "\\end{align}\n",
    "\n",
    "Then, the rate equations for each species are:\n",
    "\n",
    "\\begin{align}\n",
    "\\frac{d[H]}{dt} &= k_{r,1}[OH][O] + k_{f,2}[O][H_2] + k_{f,3}[OH][H_2] + 2k_{f,5}[H_2][M] - k_{f,1}[H][O2] - k_{r,2}[H][OH] - k_{r,3}[H_2O][H] - k_{f,4}[H][OH][M] \\\\\n",
    "\\frac{d[O]}{dt} &= k_{f,1}[H][O2] + k_{r,2}[H][OH] + 2k_{f,6}[O_2][M] - k_{r,1}[OH][O] - k_{f,2}[O][H_2] \\\\\n",
    "\\frac{d[OH]}{dt} &= k_{f,1}[H][O2] + k_{f,2}[O][H_2] + k_{r,3}[H_2O][H] - k_{r,1}[OH][O] - k_{r,2}[H][OH] - k_{f,3}[OH][H_2] - k_{f,4}[H][OH][M] \\\\\n",
    "\\frac{d[H_2]}{dt} &= k_{r,2}[OH][H] + k_{r,3}[H_2O][H] - k_{f,2}[O][H_2] - k_{f,3}[OH][H_2] - k_{f,5}[H_2][M] \\\\\n",
    "\\frac{d[O_2]}{dt} &= k_{r,1}[OH][O] - k_{f,1}[H][O2] - k_{f,6}[O_2][M] \\\\\n",
    "\\frac{d[H_2O]}{dt} &= k_{f,3}[OH][H_2] + k_{f,4}[H][OH][M] - k_{r,3}[H_2O][H]\n",
    "\\end{align}"
   ]
  },
  {
   "cell_type": "code",
   "execution_count": null,
   "metadata": {
    "collapsed": false
   },
   "outputs": [],
   "source": [
    "%%latex\n",
    "Under the assumption of partial equilibrium of the three reversible reactions, we know that their\n",
    "forward and backward rates are the same.\n",
    "\\begin{align}\n",
    "k_{f,1}[H][O_2] &= k_{r,1}[OH][O] \\\\\n",
    "k_{f,2}[O][H_2] &= k_{r,2}[OH][H] \\\\\n",
    "k_{f,3}[OH][H_2] &= k_{r,3}[H_2O][H]\n",
    "\\end{align}\n",
    "\n",
    "Then, the equilibrium rate constants for these, noting that because they're bimolecular, $K_c = K_p$:\n",
    "\\begin{align}\n",
    "\\frac{[OH][O]}{[H][O_2]} &= K_{p,1} \\\\\n",
    "\\frac{[OH][H]}{[O][H_2]} &= K_{p,2} \\\\\n",
    "\\frac{[H_2O][H]}{[OH][H_2]} &= K_{p,3}\n",
    "\\end{align}"
   ]
  },
  {
   "cell_type": "code",
   "execution_count": null,
   "metadata": {
    "collapsed": false
   },
   "outputs": [],
   "source": [
    "import sympy as sym\n",
    "from IPython.display import display\n",
    "sym.init_printing(use_latex=True)\n",
    "H, O, OH, H2, O2, H2O, K1, K2, K3 = sym.symbols('[H] [O] [OH] [H_{2}] [O_{2}] [H_{2}O] K1 K2 K3', positive=True, real=True)\n",
    "k1f, k1r, k2f, k2r, k3f, k3r, k4f = sym.symbols('k_1f k_1r k_2f k_2r k_3f k_3r k_4f', positive=True, real=True)\n",
    "K_1 = sym.Eq(OH*O/(H*O2), K1)\n",
    "K_2 = sym.Eq(OH*H/(O*H2), K2)\n",
    "K_3 = sym.Eq(H2O*H/(OH*H2), K3)\n",
    "OH_PE, O_PE, H_PE = sym.solve((K_1, K_2, K_3), (OH, O, H))[0]\n",
    "display(OH_PE, O_PE, H_PE)"
   ]
  },
  {
   "cell_type": "code",
   "execution_count": null,
   "metadata": {
    "collapsed": false
   },
   "outputs": [],
   "source": [
    "%%latex\n",
    "At partial equilibrium, the three reversible reactions cancel and the rate of change of $H_2$, $O_2$ and $H_2O$ are\n",
    "\\begin{align}\n",
    "\\frac{d[H_2]}{dt} &= -k_{f,5}[H_2][M] \\\\\n",
    "\\frac{d[O_2]}{dt} &= -k_{f,6}[O_2][M] \\\\\n",
    "\\frac{d[H_2O]}{dt} &= k_{f,4}[H][OH][M] = k_{f,4} K_1 K_2 K_3 \\frac{[H_2]^2[O_2]}{[H_2O]}\n",
    "\\end{align}"
   ]
  },
  {
   "cell_type": "code",
   "execution_count": null,
   "metadata": {
    "collapsed": false
   },
   "outputs": [],
   "source": [
    "dH_2Odt = k4f*H_PE*OH_PE\n",
    "display(dH_2Odt)"
   ]
  },
  {
   "cell_type": "code",
   "execution_count": null,
   "metadata": {
    "collapsed": true
   },
   "outputs": [],
   "source": [
    "def ddt(y, t, p):\n",
    "    \"\"\"RHS of the differential equations.\n",
    "    \n",
    "    Parameters\n",
    "    ----------\n",
    "    y: np.array\n",
    "        Vector of state values (i.e., species concentrations)\n",
    "    t: float\n",
    "        Time\n",
    "    p: list\n",
    "        Parameters, K1, K2, K3, kf4, kf5, kf6\n",
    "    \"\"\"\n",
    "    M = 8.314*1000.0/10.0E5\n",
    "    H2, O2, H2O = y\n",
    "    K1, K2, K3, kf4, kf5, kf6 = p\n",
    "    f = [\n",
    "        -kf5*H2*M,\n",
    "        -kf6*O2*M,\n",
    "        kf4*K1*K2*K3*H2**2*O2/H2O,\n",
    "    ]\n",
    "    return f"
   ]
  },
  {
   "cell_type": "code",
   "execution_count": null,
   "metadata": {
    "collapsed": false
   },
   "outputs": [],
   "source": [
    "import cantera as ct\n",
    "gas = ct.Solution('h2o2.xml')\n",
    "gas.TP = 1000, 10.0E5\n",
    "Ks = gas.equilibrium_constants\n",
    "kfs = gas.forward_rate_constants\n",
    "krs = gas.reverse_rate_constants\n",
    "eqs = gas.reaction_equations()"
   ]
  },
  {
   "cell_type": "code",
   "execution_count": null,
   "metadata": {
    "collapsed": false
   },
   "outputs": [],
   "source": [
    "# print(eqs)\n",
    "indices = [\n",
    "    0,  # 6\n",
    "    2,  # 2\n",
    "    9,  # 1\n",
    "    10, # 5\n",
    "    13, # 4\n",
    "    19, # 3\n",
    "]\n",
    "K1 = Ks[indices[2]]\n",
    "K2 = Ks[indices[1]]\n",
    "K3 = Ks[indices[5]]\n",
    "kf4 = kfs[indices[4]]\n",
    "kf5 = krs[indices[0]]  # Assume H2 rate same as O2 rate\n",
    "kf6 = krs[indices[0]]\n",
    "\n",
    "p = [K1, K2, K3, kf4, kf5, kf6]\n",
    "\n",
    "# Initial conditions\n",
    "H2_0 = 1.0\n",
    "O2_0 = 1.0\n",
    "H2O_0 = 1.0E-3\n",
    "y_0 = [H2_0, O2_0, H2O_0]\n",
    "# ODE solver parameters\n",
    "abserr = 1.0e-8\n",
    "relerr = 1.0e-6\n",
    "stoptime = 10.0\n",
    "numpoints = 250\n",
    "\n",
    "# Create the time samples for the output of the ODE solver.\n",
    "# I use a large number of points, only because I want to make\n",
    "# a plot of the solution that looks nice.\n",
    "t = [stoptime * float(i) / (numpoints - 1) for i in range(numpoints)]"
   ]
  },
  {
   "cell_type": "code",
   "execution_count": null,
   "metadata": {
    "collapsed": false
   },
   "outputs": [],
   "source": [
    "from scipy.integrate import odeint\n",
    "ysol = odeint(ddt, y_0, t, args=(p,), atol=abserr, rtol=relerr)"
   ]
  },
  {
   "cell_type": "code",
   "execution_count": null,
   "metadata": {
    "collapsed": false
   },
   "outputs": [],
   "source": [
    "print(ysol)"
   ]
  },
  {
   "cell_type": "code",
   "execution_count": null,
   "metadata": {
    "collapsed": false
   },
   "outputs": [],
   "source": [
    "%matplotlib\n",
    "import matplotlib.pyplot as plt\n",
    "plt.plot(t, ysol[:, 0])\n",
    "plt.plot(t, ysol[:, 1])\n",
    "plt.plot(t, ysol[:, 2])"
   ]
  }
 ],
 "metadata": {
  "git": {
   "suppress_outputs": true
  },
  "kernelspec": {
   "display_name": "Python 3",
   "language": "python",
   "name": "python3"
  },
  "language_info": {
   "codemirror_mode": {
    "name": "ipython",
    "version": 3
   },
   "file_extension": ".py",
   "mimetype": "text/x-python",
   "name": "python",
   "nbconvert_exporter": "python",
   "pygments_lexer": "ipython3",
   "version": "3.5.1"
  }
 },
 "nbformat": 4,
 "nbformat_minor": 0
}
