{
 "cells": [
  {
   "cell_type": "markdown",
   "metadata": {},
   "source": [
    "This file is a simple test of the ODE integrator in SciPy and my ability to write a system of ODEs. The system is a very simplified version of $H_2$-$O_2$ chemistry. The system of reactions to be solved involves 4 reactions (3 reversible, 1 irreversible) among 6 species: $H$, $O$, $OH$, $H_2$, $O_2$, and $H_2O$. The 3 reversible reactions are assumed to be in partial equilibrium. The derivation follows the discussion of Turns, Pg. 133."
   ]
  },
  {
   "cell_type": "code",
   "execution_count": null,
   "metadata": {
    "collapsed": false
   },
   "outputs": [],
   "source": [
    "%%latex\n",
    "The reactions that are present in this system are:\n",
    "\\begin{align}\n",
    "H + O_2 &\\leftrightarrow OH + O & (&1) \\\\\n",
    "O + H_2 &\\leftrightarrow OH + H & (&2) \\\\\n",
    "OH + H_2 &\\leftrightarrow H_2O + H & (&3) \\\\\n",
    "H + OH + M &\\rightarrow H_2O + M & (&4)\n",
    "\\end{align}\n",
    "\n",
    "Then, the rate equations for each species are:\n",
    "\n",
    "\\begin{align}\n",
    "\\frac{d[H]}{dt} &= k_{r,1}[OH][O] + k_{f,2}[O][H_2] + k_{f,3}[OH][H_2] - k_{f,1}[H][O2] - k_{r,2}[H][OH] - k_{r,3}[H_2O][H] - k_{f,4}[H][OH][M] \\\\\n",
    "\\frac{d[O]}{dt} &= k_{f,1}[H][O2] + k_{r,2}[H][OH] - k_{r,1}[OH][O] - k_{f,2}[O][H_2] \\\\\n",
    "\\frac{d[OH]}{dt} &= k_{f,1}[H][O2] + k_{f,2}[O][H_2] + k_{r,3}[H_2O][H] - k_{r,1}[OH][O] - k_{r,2}[H][OH] - k_{f,3}[OH][H_2] - k_{f,4}[H][OH][M] \\\\\n",
    "\\frac{d[H_2]}{dt} &= k_{r,2}[OH][H] + k_{r,3}[H_2O][H] - k_{f,2}[O][H_2] - k_{f,3}[OH][H_2] \\\\\n",
    "\\frac{d[O_2]}{dt} &= k_{r,1}[OH][O] - k_{f,1}[H][O2] \\\\\n",
    "\\frac{d[H_2O]}{dt} &= k_{f,3}[OH][H_2] + k_{f,4}[H][OH][M] - k_{r,3}[H_2O][H]\n",
    "\\end{align}"
   ]
  },
  {
   "cell_type": "code",
   "execution_count": null,
   "metadata": {
    "collapsed": false
   },
   "outputs": [],
   "source": [
    "%%latex\n",
    "Under the assumption of partial equilibrium of the three reversible reactions, we know that their\n",
    "forward and backward rates are the same.\n",
    "\\begin{align}\n",
    "k_{f,1}[H][O_2] &= k_{r,1}[OH][O] \\\\\n",
    "k_{f,2}[O][H_2] &= k_{r,2}[OH][H] \\\\\n",
    "k_{f,3}[OH][H_2] &= k_{r,3}[H_2O][H]\n",
    "\\end{align}\n",
    "\n",
    "Then, the equilibrium rate constants for these, noting that because they're bimolecular, $K_c = K_p$:\n",
    "\\begin{align}\n",
    "\\frac{[OH][O]}{[H][O_2]} &= K_{p,1} \\\\\n",
    "\\frac{[OH][H]}{[O][H_2]} &= K_{p,2} \\\\\n",
    "\\frac{[H_2O][H]}{[OH][H_2]} &= K_{p,3}\n",
    "\\end{align}"
   ]
  },
  {
   "cell_type": "code",
   "execution_count": null,
   "metadata": {
    "collapsed": false
   },
   "outputs": [],
   "source": [
    "import sympy as sym\n",
    "from IPython.display import display\n",
    "H, O, OH, H2, O2, H2O, K1, K2, K3 = sym.symbols('H O OH H2 O2 H_{2}O K1 K2 K3', positive=True, real=True)\n",
    "k1f, k1r, k2f, k2r, k3f, k3r, k4f = sym.symbols('k_1f k_1r k_2f k_2r k_3f k_3r k_4f', positive=True, real=True)\n",
    "K_1 = sym.Eq(OH*O/(H*O2), K1)\n",
    "K_2 = sym.Eq(OH*H/(O*H2), K2)\n",
    "K_3 = sym.Eq(H2O*H/(OH*H2), K3)\n",
    "OH_PE, O_PE, H_PE = sym.solve((K_1, K_2, K_3), (OH, O, H))[0]\n",
    "display(OH_PE, O_PE, H_PE)"
   ]
  },
  {
   "cell_type": "code",
   "execution_count": null,
   "metadata": {
    "collapsed": false
   },
   "outputs": [],
   "source": [
    "%%latex\n",
    "At partial equilibrium, the rate of change of $H_2$, $O_2$ and $H_2O$ are\n",
    "\\begin{align}\n",
    "\\frac{d[H_2]}{dt} &= 0 \\\\\n",
    "\\frac{d[O_2]}{dt} &= 0 \\\\\n",
    "\\frac{d[H_2O]}{dt} &= k_{f,4}[H][OH][M]\n",
    "\\end{align}"
   ]
  },
  {
   "cell_type": "code",
   "execution_count": null,
   "metadata": {
    "collapsed": false
   },
   "outputs": [],
   "source": [
    "dH_2Odt = k4f*H_PE*OH_PE\n",
    "display(dH_2Odt)"
   ]
  }
 ],
 "metadata": {
  "git": {
   "suppress_outputs": true
  },
  "kernelspec": {
   "display_name": "Python 3",
   "language": "python",
   "name": "python3"
  },
  "language_info": {
   "codemirror_mode": {
    "name": "ipython",
    "version": 3
   },
   "file_extension": ".py",
   "mimetype": "text/x-python",
   "name": "python",
   "nbconvert_exporter": "python",
   "pygments_lexer": "ipython3",
   "version": "3.5.1"
  }
 },
 "nbformat": 4,
 "nbformat_minor": 0
}
